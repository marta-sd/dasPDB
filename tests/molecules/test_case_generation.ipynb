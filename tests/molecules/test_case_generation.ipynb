{
 "cells": [
  {
   "cell_type": "markdown",
   "id": "64e01199",
   "metadata": {},
   "source": [
    "Test cases from this list are prepended with \"A\" - Other notebooks specifying additional tests should prepend with \"B\", \"C\", \"D\", etc\n",
    "\n",
    "Basic\n",
    "1. ALA_ALA (cterm cap/nterm cap/charged terms)\n",
    "2. ALA_ALA (uncapped)\n",
    "3. HIS_PRO (diff protonation states)\n",
    "4. CYX_ALA_ALA_CYX\n",
    "5. ALA_ASP/ASH\n",
    "6. ALA_LYS/LYN\n",
    "7. ALA_ALA LIG\n",
    "8. ALA ALA (one/two chains, one/two molecules, maybe TER between)\n",
    "9. ALA ALA (differ only by insertion code)\n",
    "10. ALA ALA (same residue info, noncontiguous)\n",
    "11. Deprotonated SER and CYX\n",
    "12. Chelated metal\n",
    "13. D amino acids (not clear if we should check stereo?)\n",
    "\n",
    "\n",
    "Harder\n",
    "1. ALA_ALA LIG\n",
    "2. covalent ligand\n",
    "3. AMBER residue names\n",
    "\n",
    "Scoring metric\n",
    "* Same canonical isomeric SMILES"
   ]
  },
  {
   "cell_type": "markdown",
   "id": "92ea05ab",
   "metadata": {},
   "source": [
    "# Test case generation\n",
    "1"
   ]
  },
  {
   "cell_type": "code",
   "execution_count": 21,
   "id": "8054fb37",
   "metadata": {},
   "outputs": [
    {
     "data": {
      "image/png": "[encoded data removed]",
      "text/plain": [
       "<rdkit.Chem.rdchem.Mol at 0x162f50220>"
      ]
     },
     "execution_count": 21,
     "metadata": {},
     "output_type": "execute_result"
    }
   ],
   "source": [
    "from rdkit import Chem\n",
    "mol = Chem.MolFromFASTA('AA')\n",
    "mol = Chem.AddHs(mol, addResidueInfo=True)\n",
    "mol"
   ]
  },
  {
   "cell_type": "code",
   "execution_count": 22,
   "id": "4f61ad81",
   "metadata": {},
   "outputs": [
    {
     "name": "stdout",
     "output_type": "stream",
     "text": [
      "<rdkit.Chem.rdchem.AtomPDBResidueInfo object at 0x162f35be0>\n",
      "<rdkit.Chem.rdchem.AtomPDBResidueInfo object at 0x10cdfc8e0>\n",
      "<rdkit.Chem.rdchem.AtomPDBResidueInfo object at 0x162f35be0>\n",
      "<rdkit.Chem.rdchem.AtomPDBResidueInfo object at 0x10cdfc8e0>\n",
      "<rdkit.Chem.rdchem.AtomPDBResidueInfo object at 0x162f35be0>\n",
      "<rdkit.Chem.rdchem.AtomPDBResidueInfo object at 0x10cdfc8e0>\n",
      "<rdkit.Chem.rdchem.AtomPDBResidueInfo object at 0x162f35be0>\n",
      "<rdkit.Chem.rdchem.AtomPDBResidueInfo object at 0x10cdfc8e0>\n",
      "<rdkit.Chem.rdchem.AtomPDBResidueInfo object at 0x162f35be0>\n",
      "<rdkit.Chem.rdchem.AtomPDBResidueInfo object at 0x10cdfc8e0>\n",
      "<rdkit.Chem.rdchem.AtomPDBResidueInfo object at 0x162f35be0>\n",
      "<rdkit.Chem.rdchem.AtomPDBResidueInfo object at 0x10cdfc8e0>\n",
      "<rdkit.Chem.rdchem.AtomPDBResidueInfo object at 0x162f35be0>\n",
      "<rdkit.Chem.rdchem.AtomPDBResidueInfo object at 0x10cdfc8e0>\n",
      "<rdkit.Chem.rdchem.AtomPDBResidueInfo object at 0x162f35be0>\n",
      "<rdkit.Chem.rdchem.AtomPDBResidueInfo object at 0x10cdfc8e0>\n",
      "<rdkit.Chem.rdchem.AtomPDBResidueInfo object at 0x162f35be0>\n",
      "<rdkit.Chem.rdchem.AtomPDBResidueInfo object at 0x10cdfc8e0>\n",
      "<rdkit.Chem.rdchem.AtomPDBResidueInfo object at 0x162f35be0>\n",
      "<rdkit.Chem.rdchem.AtomPDBResidueInfo object at 0x10cdfc8e0>\n",
      "<rdkit.Chem.rdchem.AtomPDBResidueInfo object at 0x162f35be0>\n",
      "<rdkit.Chem.rdchem.AtomPDBResidueInfo object at 0x10cdfc8e0>\n",
      "<rdkit.Chem.rdchem.AtomPDBResidueInfo object at 0x162f35be0>\n"
     ]
    }
   ],
   "source": [
    "for atom in mol.GetAtoms():\n",
    "    #print([i for i in dir(atom) if \"PDB\" in i])\n",
    "    print(atom.GetPDBResidueInfo())"
   ]
  },
  {
   "cell_type": "code",
   "execution_count": 20,
   "id": "45ed1a20",
   "metadata": {},
   "outputs": [],
   "source": [
    "Chem.AddHs?"
   ]
  },
  {
   "cell_type": "code",
   "execution_count": 17,
   "id": "2ec5137b",
   "metadata": {},
   "outputs": [
    {
     "data": {
      "text/plain": [
       "['AtomPDBResidueInfo',\n",
       " 'MolFromPDBBlock',\n",
       " 'MolFromPDBFile',\n",
       " 'MolToPDBBlock',\n",
       " 'MolToPDBFile',\n",
       " 'PDBWriter',\n",
       " 'SplitMolByPDBChainId',\n",
       " 'SplitMolByPDBResidues']"
      ]
     },
     "execution_count": 17,
     "metadata": {},
     "output_type": "execute_result"
    }
   ],
   "source": [
    "[i for i in dir(Chem) if \"PDB\" in i]"
   ]
  },
  {
   "cell_type": "code",
   "execution_count": 24,
   "id": "617164b3",
   "metadata": {},
   "outputs": [
    {
     "name": "stdout",
     "output_type": "stream",
     "text": [
      "ATOM      1  N   ALA A   1       0.000   0.000   0.000  1.00  0.00           N  \n",
      "ATOM      2  CA  ALA A   1       0.000   0.000   0.000  1.00  0.00           C  \n",
      "ATOM      3  C   ALA A   1       0.000   0.000   0.000  1.00  0.00           C  \n",
      "ATOM      4  O   ALA A   1       0.000   0.000   0.000  1.00  0.00           O  \n",
      "ATOM      5  CB  ALA A   1       0.000   0.000   0.000  1.00  0.00           C  \n",
      "ATOM      6  N   ALA A   2       0.000   0.000   0.000  1.00  0.00           N  \n",
      "ATOM      7  CA  ALA A   2       0.000   0.000   0.000  1.00  0.00           C  \n",
      "ATOM      8  C   ALA A   2       0.000   0.000   0.000  1.00  0.00           C  \n",
      "ATOM      9  O   ALA A   2       0.000   0.000   0.000  1.00  0.00           O  \n",
      "ATOM     10  CB  ALA A   2       0.000   0.000   0.000  1.00  0.00           C  \n",
      "ATOM     11  OXT ALA A   2       0.000   0.000   0.000  1.00  0.00           O  \n",
      "ATOM     12  H1  ALA A   1       0.000   0.000   0.000  1.00  0.00           H  \n",
      "ATOM     13  H2  ALA A   1       0.000   0.000   0.000  1.00  0.00           H  \n",
      "ATOM     14  H3  ALA A   1       0.000   0.000   0.000  1.00  0.00           H  \n",
      "ATOM     15  H4  ALA A   1       0.000   0.000   0.000  1.00  0.00           H  \n",
      "ATOM     16  H5  ALA A   1       0.000   0.000   0.000  1.00  0.00           H  \n",
      "ATOM     17  H6  ALA A   1       0.000   0.000   0.000  1.00  0.00           H  \n",
      "ATOM     18  H1  ALA A   2       0.000   0.000   0.000  1.00  0.00           H  \n",
      "ATOM     19  H2  ALA A   2       0.000   0.000   0.000  1.00  0.00           H  \n",
      "ATOM     20  H3  ALA A   2       0.000   0.000   0.000  1.00  0.00           H  \n",
      "ATOM     21  H4  ALA A   2       0.000   0.000   0.000  1.00  0.00           H  \n",
      "ATOM     22  H5  ALA A   2       0.000   0.000   0.000  1.00  0.00           H  \n",
      "ATOM     23  H6  ALA A   2       0.000   0.000   0.000  1.00  0.00           H  \n",
      "CONECT    1    2   12   13\n",
      "CONECT    2    3    5   14\n",
      "CONECT    3    4    4    6\n",
      "CONECT    5   15   16   17\n",
      "CONECT    6    7   18\n",
      "CONECT    7    8   10   19\n",
      "CONECT    8    9    9   11\n",
      "CONECT   10   20   21   22\n",
      "CONECT   11   23\n",
      "END\n",
      "\n"
     ]
    }
   ],
   "source": [
    "print(Chem.MolToPDBBlock(mol))"
   ]
  },
  {
   "cell_type": "code",
   "execution_count": null,
   "id": "b3fe537d",
   "metadata": {},
   "outputs": [],
   "source": []
  }
 ],
 "metadata": {
  "kernelspec": {
   "display_name": "Python 3 (ipykernel)",
   "language": "python",
   "name": "python3"
  },
  "language_info": {
   "codemirror_mode": {
    "name": "ipython",
    "version": 3
   },
   "file_extension": ".py",
   "mimetype": "text/x-python",
   "name": "python",
   "nbconvert_exporter": "python",
   "pygments_lexer": "ipython3",
   "version": "3.9.12"
  }
 },
 "nbformat": 4,
 "nbformat_minor": 5
}
