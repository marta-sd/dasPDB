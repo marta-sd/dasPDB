{
 "cells": [
  {
   "cell_type": "markdown",
   "id": "02fa4e9b",
   "metadata": {},
   "source": [
    "Test cases from this list are prepended with \"A\" - Other notebooks specifying additional tests should prepend with \"B\", \"C\", \"D\", etc\n",
    "\n",
    "Basic\n",
    "1. ALA_ALA (cterm cap/nterm cap/charged terms)\n",
    "2. ALA_ALA (uncapped)\n",
    "3. HIS_PRO (diff protonation states)\n",
    "4. CYX_ALA_ALA_CYX\n",
    "5. ALA_ASP/ASH\n",
    "6. ALA_LYS/LYN\n",
    "7. ALA_ALA LIG\n",
    "8. ALA ALA (one/two chains, one/two molecules, maybe TER between)\n",
    "9. ALA ALA (differ only by insertion code)\n",
    "10. ALA ALA (same residue info, noncontiguous)\n",
    "11. Deprotonated SER and CYX\n",
    "12. Chelated metal\n",
    "13. D amino acids (not clear if we should check stereo?)\n",
    "14. phosphotyrosine (TPO)\n",
    "\n",
    "\n",
    "Harder\n",
    "1. ALA_ALA LIG\n",
    "2. covalent ligand\n",
    "3. AMBER residue names\n",
    "\n",
    "Scoring metric\n",
    "* Same canonical isomeric SMILES\n",
    "     * Each test should have a \"PDB\" input and a \"reference\" input for comparison. \n",
    "     * If the reference input is a SMILES doesn't need to be canonicalized\n",
    "* PDB files MAY have CONECT lines. If so, the test will be run twice, with one run stripping that input\n",
    "* Ligands will always be called HETATM"
   ]
  },
  {
   "cell_type": "markdown",
   "id": "4b5325e3",
   "metadata": {},
   "source": [
    "# Test case generation\n",
    "A1"
   ]
  },
  {
   "cell_type": "code",
   "execution_count": 33,
   "id": "afd06b3d",
   "metadata": {},
   "outputs": [],
   "source": [
    "os.mkdir?"
   ]
  },
  {
   "cell_type": "code",
   "execution_count": 34,
   "id": "7d6b4944",
   "metadata": {},
   "outputs": [],
   "source": [
    "import os\n",
    "try:\n",
    "    os.mkdir('A1')\n",
    "except:\n",
    "    pass"
   ]
  },
  {
   "cell_type": "code",
   "execution_count": 21,
   "id": "98193e8e",
   "metadata": {},
   "outputs": [
    {
     "data": {
      "image/png": "[encoded data removed]",
      "text/plain": [
       "<rdkit.Chem.rdchem.Mol at 0x162f50220>"
      ]
     },
     "execution_count": 21,
     "metadata": {},
     "output_type": "execute_result"
    }
   ],
   "source": [
    "from rdkit import Chem\n",
    "mol = Chem.MolFromFASTA('AA')\n",
    "mol = Chem.AddHs(mol, addResidueInfo=True)\n",
    "mol"
   ]
  },
  {
   "cell_type": "code",
   "execution_count": 35,
   "id": "e68a778b",
   "metadata": {},
   "outputs": [],
   "source": [
    "Chem.MolToPDBFile(mol, \"A1/A1_neutral.pdb\")"
   ]
  },
  {
   "cell_type": "code",
   "execution_count": 46,
   "id": "6a241936",
   "metadata": {},
   "outputs": [
    {
     "data": {
      "image/png": "[encoded data removed]",
      "text/plain": [
       "<rdkit.Chem.rdchem.Mol at 0x162e59d60>"
      ]
     },
     "execution_count": 46,
     "metadata": {},
     "output_type": "execute_result"
    }
   ],
   "source": [
    "rxn = Chem.rdChemReactions.ReactionFromSmarts(\n",
    "    \"[N:1]([H:2])([H:3])[CX4:4] >> [N+:1]([H:2])([H:3])([H])[CX4:4]\"\n",
    ")\n",
    "products = rxn.RunReactants([mol])\n",
    "\n",
    "product = products[0][0]\n",
    "# Ensure that there's only one chemical structure that comes from the reaction\n",
    "assert len(set([Chem.MolToSmiles(i[0]) for i in products])) == 1, len(products)\n",
    "Chem.SanitizeMol(product)\n",
    "product"
   ]
  },
  {
   "cell_type": "code",
   "execution_count": null,
   "id": "f9cdb08e",
   "metadata": {},
   "outputs": [],
   "source": []
  },
  {
   "cell_type": "code",
   "execution_count": 47,
   "id": "5381f11f",
   "metadata": {},
   "outputs": [
    {
     "name": "stdout",
     "output_type": "stream",
     "text": [
      "ATOM      1  N   ALA A   1       0.000   0.000   0.000  1.00  0.00           N1+\n",
      "ATOM      2  H1  ALA A   1       0.000   0.000   0.000  1.00  0.00           H  \n",
      "ATOM      3  H2  ALA A   1       0.000   0.000   0.000  1.00  0.00           H  \n",
      "HETATM    4  H1  UNL     1       0.000   0.000   0.000  1.00  0.00           H  \n",
      "ATOM      5  CA  ALA A   1       0.000   0.000   0.000  1.00  0.00           C  \n",
      "ATOM      6  C   ALA A   1       0.000   0.000   0.000  1.00  0.00           C  \n",
      "ATOM      7  CB  ALA A   1       0.000   0.000   0.000  1.00  0.00           C  \n",
      "ATOM      8  H3  ALA A   1       0.000   0.000   0.000  1.00  0.00           H  \n",
      "ATOM      9  O   ALA A   1       0.000   0.000   0.000  1.00  0.00           O  \n",
      "ATOM     10  N   ALA A   2       0.000   0.000   0.000  1.00  0.00           N  \n",
      "ATOM     11  H4  ALA A   1       0.000   0.000   0.000  1.00  0.00           H  \n",
      "ATOM     12  H5  ALA A   1       0.000   0.000   0.000  1.00  0.00           H  \n",
      "ATOM     13  H6  ALA A   1       0.000   0.000   0.000  1.00  0.00           H  \n",
      "ATOM     14  CA  ALA A   2       0.000   0.000   0.000  1.00  0.00           C  \n",
      "ATOM     15  H1  ALA A   2       0.000   0.000   0.000  1.00  0.00           H  \n",
      "ATOM     16  C   ALA A   2       0.000   0.000   0.000  1.00  0.00           C  \n",
      "ATOM     17  CB  ALA A   2       0.000   0.000   0.000  1.00  0.00           C  \n",
      "ATOM     18  H2  ALA A   2       0.000   0.000   0.000  1.00  0.00           H  \n",
      "ATOM     19  O   ALA A   2       0.000   0.000   0.000  1.00  0.00           O  \n",
      "ATOM     20  OXT ALA A   2       0.000   0.000   0.000  1.00  0.00           O  \n",
      "ATOM     21  H3  ALA A   2       0.000   0.000   0.000  1.00  0.00           H  \n",
      "ATOM     22  H4  ALA A   2       0.000   0.000   0.000  1.00  0.00           H  \n",
      "ATOM     23  H5  ALA A   2       0.000   0.000   0.000  1.00  0.00           H  \n",
      "ATOM     24  H6  ALA A   2       0.000   0.000   0.000  1.00  0.00           H  \n",
      "CONECT    1    2    3    4    5\n",
      "CONECT    5    6    7    8\n",
      "CONECT    6    9    9   10\n",
      "CONECT    7   11   12   13\n",
      "CONECT   10   14   15\n",
      "CONECT   14   16   17   18\n",
      "CONECT   16   19   19   20\n",
      "CONECT   17   21   22   23\n",
      "CONECT   20   24\n",
      "END\n",
      "\n"
     ]
    }
   ],
   "source": [
    "print(Chem.MolToPDBBlock(product))"
   ]
  },
  {
   "cell_type": "code",
   "execution_count": null,
   "id": "6aacb3f5",
   "metadata": {},
   "outputs": [],
   "source": []
  }
 ],
 "metadata": {
  "kernelspec": {
   "display_name": "Python 3 (ipykernel)",
   "language": "python",
   "name": "python3"
  },
  "language_info": {
   "codemirror_mode": {
    "name": "ipython",
    "version": 3
   },
   "file_extension": ".py",
   "mimetype": "text/x-python",
   "name": "python",
   "nbconvert_exporter": "python",
   "pygments_lexer": "ipython3",
   "version": "3.9.12"
  }
 },
 "nbformat": 4,
 "nbformat_minor": 5
}
